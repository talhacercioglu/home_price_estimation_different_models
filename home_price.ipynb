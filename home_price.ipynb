{
 "cells": [
  {
   "cell_type": "code",
   "execution_count": 1,
   "metadata": {},
   "outputs": [],
   "source": [
    "square_meter = [1500, 1700, 2000, 1200, 1800, 2500,  1300, 1950, 2150, 1100, 2300, 3100, 1200, 1650, 2000, 1450, 2600, 1400, 2200, 2700, 1300, 1950, 2150, 1100, 2300, 3100, 1200, 1650, 2000, 1450, 2600]\n",
    "number_of_rooms = [3, 2, 3, 2, 4, 3, 2, 3, 4, 2, 3, 4, 2, 3, 4, 3, 2, 4, 3, 2, 3, 4, 2, 3, 4, 2, 2, 3, 4, 2, 2]\n",
    "number_of_bathrooms = [1, 1, 2, 1, 2, 2, 1, 2, 3, 1, 2, 2, 1, 2, 3, 1, 2, 2, 1, 2, 3, 1, 2, 2, 1, 2, 1, 2, 2, 1, 2]\n",
    "year = [2010, 2015, 2012, 2018, 2013, 2017, 2017, 2014, 2016, 2019, 2011, 2015, 2017, 2016, 2018, 2020, 2019, 2014, 2016, 2019, 2011, 2015, 2017, 2016, 2018, 2020, 2019, 2012, 2014, 2013, 2015]\n",
    "price = [200000, 220000, 250000, 180000, 280000, 320000, 190000, 300000, 400000, 210000, 270000, 330000, 200000, 250000, 180000, 280000, 320000, 190000, 300000, 400000, 210000, 270000, 330000, 200000, 350000, 450000, 220000, 260000, 310000, 190000, 380000]"
   ]
  },
  {
   "cell_type": "code",
   "execution_count": 2,
   "metadata": {},
   "outputs": [],
   "source": [
    "import pandas as pd"
   ]
  },
  {
   "cell_type": "code",
   "execution_count": 3,
   "metadata": {},
   "outputs": [
    {
     "name": "stdout",
     "output_type": "stream",
     "text": [
      "The CSV file has been successfully created: \"home_prices.csv\"\n"
     ]
    }
   ],
   "source": [
    "import csv\n",
    "data = list(zip(square_meter, number_of_rooms, number_of_bathrooms, price, year))\n",
    "\n",
    "with open('home_prices.csv', mode='w', newline='') as folder:\n",
    "    printer = csv.writer(folder)\n",
    "    printer.writerow(['Square Meter', 'Number of Rooms', 'Number of Bathrooms', 'Price ($)', 'Year'])\n",
    "    printer.writerows(data)\n",
    "\n",
    "print('The CSV file has been successfully created: \"home_prices.csv\"')"
   ]
  },
  {
   "cell_type": "code",
   "execution_count": 4,
   "metadata": {},
   "outputs": [],
   "source": [
    "df = pd.read_csv(\"home_prices.csv\")"
   ]
  },
  {
   "cell_type": "markdown",
   "metadata": {},
   "source": [
    "\"We read the CSV file.\""
   ]
  },
  {
   "cell_type": "code",
   "execution_count": 5,
   "metadata": {},
   "outputs": [
    {
     "data": {
      "text/html": [
       "<div>\n",
       "<style scoped>\n",
       "    .dataframe tbody tr th:only-of-type {\n",
       "        vertical-align: middle;\n",
       "    }\n",
       "\n",
       "    .dataframe tbody tr th {\n",
       "        vertical-align: top;\n",
       "    }\n",
       "\n",
       "    .dataframe thead th {\n",
       "        text-align: right;\n",
       "    }\n",
       "</style>\n",
       "<table border=\"1\" class=\"dataframe\">\n",
       "  <thead>\n",
       "    <tr style=\"text-align: right;\">\n",
       "      <th></th>\n",
       "      <th>Square Meter</th>\n",
       "      <th>Number of Rooms</th>\n",
       "      <th>Number of Bathrooms</th>\n",
       "      <th>Price ($)</th>\n",
       "      <th>Year</th>\n",
       "    </tr>\n",
       "  </thead>\n",
       "  <tbody>\n",
       "    <tr>\n",
       "      <th>0</th>\n",
       "      <td>1500</td>\n",
       "      <td>3</td>\n",
       "      <td>1</td>\n",
       "      <td>200000</td>\n",
       "      <td>2010</td>\n",
       "    </tr>\n",
       "    <tr>\n",
       "      <th>1</th>\n",
       "      <td>1700</td>\n",
       "      <td>2</td>\n",
       "      <td>1</td>\n",
       "      <td>220000</td>\n",
       "      <td>2015</td>\n",
       "    </tr>\n",
       "    <tr>\n",
       "      <th>2</th>\n",
       "      <td>2000</td>\n",
       "      <td>3</td>\n",
       "      <td>2</td>\n",
       "      <td>250000</td>\n",
       "      <td>2012</td>\n",
       "    </tr>\n",
       "    <tr>\n",
       "      <th>3</th>\n",
       "      <td>1200</td>\n",
       "      <td>2</td>\n",
       "      <td>1</td>\n",
       "      <td>180000</td>\n",
       "      <td>2018</td>\n",
       "    </tr>\n",
       "    <tr>\n",
       "      <th>4</th>\n",
       "      <td>1800</td>\n",
       "      <td>4</td>\n",
       "      <td>2</td>\n",
       "      <td>280000</td>\n",
       "      <td>2013</td>\n",
       "    </tr>\n",
       "  </tbody>\n",
       "</table>\n",
       "</div>"
      ],
      "text/plain": [
       "   Square Meter  Number of Rooms  Number of Bathrooms  Price ($)  Year\n",
       "0          1500                3                    1     200000  2010\n",
       "1          1700                2                    1     220000  2015\n",
       "2          2000                3                    2     250000  2012\n",
       "3          1200                2                    1     180000  2018\n",
       "4          1800                4                    2     280000  2013"
      ]
     },
     "execution_count": 5,
     "metadata": {},
     "output_type": "execute_result"
    }
   ],
   "source": [
    "df.head()"
   ]
  },
  {
   "cell_type": "markdown",
   "metadata": {},
   "source": [
    "\"Our first five data entries.\""
   ]
  },
  {
   "cell_type": "code",
   "execution_count": 6,
   "metadata": {},
   "outputs": [
    {
     "data": {
      "text/html": [
       "<div>\n",
       "<style scoped>\n",
       "    .dataframe tbody tr th:only-of-type {\n",
       "        vertical-align: middle;\n",
       "    }\n",
       "\n",
       "    .dataframe tbody tr th {\n",
       "        vertical-align: top;\n",
       "    }\n",
       "\n",
       "    .dataframe thead th {\n",
       "        text-align: right;\n",
       "    }\n",
       "</style>\n",
       "<table border=\"1\" class=\"dataframe\">\n",
       "  <thead>\n",
       "    <tr style=\"text-align: right;\">\n",
       "      <th></th>\n",
       "      <th>Square Meter</th>\n",
       "      <th>Number of Rooms</th>\n",
       "      <th>Number of Bathrooms</th>\n",
       "      <th>Price ($)</th>\n",
       "      <th>Year</th>\n",
       "    </tr>\n",
       "  </thead>\n",
       "  <tbody>\n",
       "    <tr>\n",
       "      <th>Square Meter</th>\n",
       "      <td>1.000000</td>\n",
       "      <td>0.141309</td>\n",
       "      <td>0.353574</td>\n",
       "      <td>0.840423</td>\n",
       "      <td>0.138685</td>\n",
       "    </tr>\n",
       "    <tr>\n",
       "      <th>Number of Rooms</th>\n",
       "      <td>0.141309</td>\n",
       "      <td>1.000000</td>\n",
       "      <td>0.375833</td>\n",
       "      <td>0.061081</td>\n",
       "      <td>-0.330987</td>\n",
       "    </tr>\n",
       "    <tr>\n",
       "      <th>Number of Bathrooms</th>\n",
       "      <td>0.353574</td>\n",
       "      <td>0.375833</td>\n",
       "      <td>1.000000</td>\n",
       "      <td>0.302339</td>\n",
       "      <td>-0.203050</td>\n",
       "    </tr>\n",
       "    <tr>\n",
       "      <th>Price ($)</th>\n",
       "      <td>0.840423</td>\n",
       "      <td>0.061081</td>\n",
       "      <td>0.302339</td>\n",
       "      <td>1.000000</td>\n",
       "      <td>0.275947</td>\n",
       "    </tr>\n",
       "    <tr>\n",
       "      <th>Year</th>\n",
       "      <td>0.138685</td>\n",
       "      <td>-0.330987</td>\n",
       "      <td>-0.203050</td>\n",
       "      <td>0.275947</td>\n",
       "      <td>1.000000</td>\n",
       "    </tr>\n",
       "  </tbody>\n",
       "</table>\n",
       "</div>"
      ],
      "text/plain": [
       "                     Square Meter  Number of Rooms  Number of Bathrooms  \\\n",
       "Square Meter             1.000000         0.141309             0.353574   \n",
       "Number of Rooms          0.141309         1.000000             0.375833   \n",
       "Number of Bathrooms      0.353574         0.375833             1.000000   \n",
       "Price ($)                0.840423         0.061081             0.302339   \n",
       "Year                     0.138685        -0.330987            -0.203050   \n",
       "\n",
       "                     Price ($)      Year  \n",
       "Square Meter          0.840423  0.138685  \n",
       "Number of Rooms       0.061081 -0.330987  \n",
       "Number of Bathrooms   0.302339 -0.203050  \n",
       "Price ($)             1.000000  0.275947  \n",
       "Year                  0.275947  1.000000  "
      ]
     },
     "execution_count": 6,
     "metadata": {},
     "output_type": "execute_result"
    }
   ],
   "source": [
    "df.corr()"
   ]
  },
  {
   "cell_type": "markdown",
   "metadata": {},
   "source": [
    "\"There is a correlation of 0.84 between square meters and price, indicating a high-level relationship.\""
   ]
  },
  {
   "cell_type": "markdown",
   "metadata": {},
   "source": [
    "\"There is a correlation of 0.37 between the number of rooms and the number of bathrooms, indicating a moderate-level relationship.\""
   ]
  },
  {
   "cell_type": "markdown",
   "metadata": {},
   "source": [
    "\"There is a correlation of 0.06 between price and the number of rooms, indicating a low-level relationship.\""
   ]
  },
  {
   "cell_type": "markdown",
   "metadata": {},
   "source": [
    "\"There is a correlation of -0.33 between the year and the number of rooms, indicating a moderate-level negative relationship.\""
   ]
  },
  {
   "cell_type": "code",
   "execution_count": 7,
   "metadata": {},
   "outputs": [
    {
     "data": {
      "text/html": [
       "<div>\n",
       "<style scoped>\n",
       "    .dataframe tbody tr th:only-of-type {\n",
       "        vertical-align: middle;\n",
       "    }\n",
       "\n",
       "    .dataframe tbody tr th {\n",
       "        vertical-align: top;\n",
       "    }\n",
       "\n",
       "    .dataframe thead th {\n",
       "        text-align: right;\n",
       "    }\n",
       "</style>\n",
       "<table border=\"1\" class=\"dataframe\">\n",
       "  <thead>\n",
       "    <tr style=\"text-align: right;\">\n",
       "      <th></th>\n",
       "      <th>Square Meter</th>\n",
       "      <th>Number of Rooms</th>\n",
       "      <th>Number of Bathrooms</th>\n",
       "      <th>Price ($)</th>\n",
       "      <th>Year</th>\n",
       "    </tr>\n",
       "  </thead>\n",
       "  <tbody>\n",
       "    <tr>\n",
       "      <th>count</th>\n",
       "      <td>31.000000</td>\n",
       "      <td>31.000000</td>\n",
       "      <td>31.000000</td>\n",
       "      <td>31.000000</td>\n",
       "      <td>31.000000</td>\n",
       "    </tr>\n",
       "    <tr>\n",
       "      <th>mean</th>\n",
       "      <td>1890.322581</td>\n",
       "      <td>2.870968</td>\n",
       "      <td>1.709677</td>\n",
       "      <td>272258.064516</td>\n",
       "      <td>2015.677419</td>\n",
       "    </tr>\n",
       "    <tr>\n",
       "      <th>std</th>\n",
       "      <td>574.081782</td>\n",
       "      <td>0.805892</td>\n",
       "      <td>0.642575</td>\n",
       "      <td>73833.582125</td>\n",
       "      <td>2.785523</td>\n",
       "    </tr>\n",
       "    <tr>\n",
       "      <th>min</th>\n",
       "      <td>1100.000000</td>\n",
       "      <td>2.000000</td>\n",
       "      <td>1.000000</td>\n",
       "      <td>180000.000000</td>\n",
       "      <td>2010.000000</td>\n",
       "    </tr>\n",
       "    <tr>\n",
       "      <th>25%</th>\n",
       "      <td>1425.000000</td>\n",
       "      <td>2.000000</td>\n",
       "      <td>1.000000</td>\n",
       "      <td>205000.000000</td>\n",
       "      <td>2014.000000</td>\n",
       "    </tr>\n",
       "    <tr>\n",
       "      <th>50%</th>\n",
       "      <td>1950.000000</td>\n",
       "      <td>3.000000</td>\n",
       "      <td>2.000000</td>\n",
       "      <td>270000.000000</td>\n",
       "      <td>2016.000000</td>\n",
       "    </tr>\n",
       "    <tr>\n",
       "      <th>75%</th>\n",
       "      <td>2250.000000</td>\n",
       "      <td>3.500000</td>\n",
       "      <td>2.000000</td>\n",
       "      <td>320000.000000</td>\n",
       "      <td>2018.000000</td>\n",
       "    </tr>\n",
       "    <tr>\n",
       "      <th>max</th>\n",
       "      <td>3100.000000</td>\n",
       "      <td>4.000000</td>\n",
       "      <td>3.000000</td>\n",
       "      <td>450000.000000</td>\n",
       "      <td>2020.000000</td>\n",
       "    </tr>\n",
       "  </tbody>\n",
       "</table>\n",
       "</div>"
      ],
      "text/plain": [
       "       Square Meter  Number of Rooms  Number of Bathrooms      Price ($)  \\\n",
       "count     31.000000        31.000000            31.000000      31.000000   \n",
       "mean    1890.322581         2.870968             1.709677  272258.064516   \n",
       "std      574.081782         0.805892             0.642575   73833.582125   \n",
       "min     1100.000000         2.000000             1.000000  180000.000000   \n",
       "25%     1425.000000         2.000000             1.000000  205000.000000   \n",
       "50%     1950.000000         3.000000             2.000000  270000.000000   \n",
       "75%     2250.000000         3.500000             2.000000  320000.000000   \n",
       "max     3100.000000         4.000000             3.000000  450000.000000   \n",
       "\n",
       "              Year  \n",
       "count    31.000000  \n",
       "mean   2015.677419  \n",
       "std       2.785523  \n",
       "min    2010.000000  \n",
       "25%    2014.000000  \n",
       "50%    2016.000000  \n",
       "75%    2018.000000  \n",
       "max    2020.000000  "
      ]
     },
     "execution_count": 7,
     "metadata": {},
     "output_type": "execute_result"
    }
   ],
   "source": [
    "df.describe()"
   ]
  },
  {
   "cell_type": "markdown",
   "metadata": {},
   "source": [
    "\"Prices range from $180,000 to $450,000.\""
   ]
  },
  {
   "cell_type": "markdown",
   "metadata": {},
   "source": [
    "\"The number of rooms ranges from a minimum of 2 to a maximum of 4.\""
   ]
  },
  {
   "cell_type": "markdown",
   "metadata": {},
   "source": [
    "\"The square footage ranges from a minimum of 1100 to a maximum of 3100.\""
   ]
  },
  {
   "cell_type": "markdown",
   "metadata": {},
   "source": [
    "\"The average price of all homes is $270,370.37.\""
   ]
  },
  {
   "cell_type": "code",
   "execution_count": 8,
   "metadata": {},
   "outputs": [
    {
     "data": {
      "image/png": "[encoded data removed]",
      "text/plain": [
       "<Figure size 640x480 with 1 Axes>"
      ]
     },
     "metadata": {},
     "output_type": "display_data"
    }
   ],
   "source": [
    "import matplotlib.pyplot as plt\n",
    "\n",
    "plt.scatter(square_meter, price)\n",
    "plt.title('Price Distribution According to Square Meters')\n",
    "plt.xlabel('Square Meter')\n",
    "plt.ylabel('Price')\n",
    "plt.show()\n"
   ]
  },
  {
   "cell_type": "code",
   "execution_count": 9,
   "metadata": {},
   "outputs": [
    {
     "data": {
      "image/png": "[encoded data removed]",
      "text/plain": [
       "<Figure size 640x480 with 1 Axes>"
      ]
     },
     "metadata": {},
     "output_type": "display_data"
    }
   ],
   "source": [
    "plt.scatter(year, price)\n",
    "plt.title('The Impact of the Year on Real Estate Prices')\n",
    "plt.xlabel('Year')\n",
    "plt.ylabel('Price')\n",
    "plt.show()\n"
   ]
  },
  {
   "cell_type": "code",
   "execution_count": 10,
   "metadata": {},
   "outputs": [
    {
     "data": {
      "image/png": "[encoded data removed]",
      "text/plain": [
       "<Figure size 640x480 with 1 Axes>"
      ]
     },
     "metadata": {},
     "output_type": "display_data"
    }
   ],
   "source": [
    "plt.scatter(number_of_bathrooms, price)\n",
    "plt.title('Price Distribution According to the Number of Bathrooms')\n",
    "plt.xlabel('Number of Bathrooms')\n",
    "plt.ylabel('Price')\n",
    "plt.xticks(range(1, 4))  # The x-axis will only display integer values. (1, 2, 3)\n",
    "plt.show()\n"
   ]
  },
  {
   "cell_type": "code",
   "execution_count": 11,
   "metadata": {},
   "outputs": [
    {
     "name": "stdout",
     "output_type": "stream",
     "text": [
      "Mean Square Error (MSE): 1549375256.5384414\n",
      "R-squared value: 0.7063099882572405\n",
      "Mean Absolute Error (MAE): 31039.351681313474\n",
      "RMSLE: 0.14324181428597252\n"
     ]
    }
   ],
   "source": [
    "import pandas as pd\n",
    "import numpy as np\n",
    "from math import sqrt\n",
    "from sklearn.linear_model import LinearRegression\n",
    "from sklearn.metrics import mean_squared_error, r2_score, mean_absolute_error\n",
    "\n",
    "# Convert the dataset into a data frame\n",
    "#pd.DataFrame() function creates a data frame. A dictionary data structure is used in it.\n",
    "# The name of each column and the data corresponding to this column (square meter and price) are placed in this dictionary.\n",
    "# As a result, a data frame named data is created and this data frame contains two columns named \"Square Feet\" and \"Price\".\n",
    "# This data frame can be used to process and analyze data more easily\n",
    "data = pd.DataFrame({\n",
    "    'Square Meter': square_meter,\n",
    "    'Price': price\n",
    "})\n",
    "\n",
    "# Selection of independent variable (X) and dependent variable (y)\n",
    "X = data[['Square Meter']]\n",
    "y = data['Price']\n",
    "\n",
    "# Build and train linear regression model\n",
    "model = LinearRegression()\n",
    "model.fit(X, y)\n",
    "\n",
    "# Make predictions\n",
    "predictions = model.predict(X)\n",
    "\n",
    "# Calculate regression metrics\n",
    "mse = mean_squared_error(y, predictions)\n",
    "r2 = r2_score(y, predictions)\n",
    "mae = mean_absolute_error(y, predictions)\n",
    "\n",
    "# Calculate RMSLE\n",
    "log_predictions = np.log1p(predictions)\n",
    "log_real_values = np.log1p(y)\n",
    "rmsle = sqrt(mean_squared_error(log_real_values, log_predictions))\n",
    "\n",
    "# Show results as output\n",
    "print(\"Mean Square Error (MSE):\", mse)\n",
    "print(\"R-squared value:\", r2)\n",
    "print(\"Mean Absolute Error (MAE):\", mae)\n",
    "print(\"RMSLE:\", rmsle)\n"
   ]
  },
  {
   "cell_type": "markdown",
   "metadata": {},
   "source": [
    "Mean Square Error (MSE): 1,549,375,256.54 (MSE) measures the mean square of the differences between the predictions and the actual values. This value is high, which indicates that our model made large errors in some predictions.\n",
    "\n",
    "R-squared value: 0.706 (R-squared) measures how much of the variance of the dependent variable is explained by the independent variables. It takes a value between 0 and 1, and the closer it is to 1, the better the model fits. This value of 0.706 indicates that our model explains the relationship between the independent variables and price by 70%. The model explains the data relatively well.\n",
    "\n",
    "Mean Absolute Error (MAE): 31,039.35 (MAE) measures the average of the absolute differences of the predictions and actual values. This value indicates that the predictions deviate from the actual values by approximately 31,039 units on average.\n",
    "\n",
    "RMSLE (Root Mean Squared Logarithmic Error): 0.143 (RMSLE) is the square root of the mean square of the logarithmic differences of the predictions and actual values. RMSLE is especially useful when working with data on a logarithmic scale, such as price forecasting. A lower RMSLE value indicates that the estimates are closer to the actual values.\n",
    "\n",
    "As a result, our model seems to fit the data quite well. However, the MSE value is still quite high, which indicates that our model may make large errors in some predictions. We may consider adding different features or collecting more data to further improve our model."
   ]
  },
  {
   "cell_type": "code",
   "execution_count": 12,
   "metadata": {},
   "outputs": [
    {
     "name": "stdout",
     "output_type": "stream",
     "text": [
      "31 31 31 31 31\n"
     ]
    }
   ],
   "source": [
    "print(len(square_meter), len(number_of_rooms), len(number_of_bathrooms), len(year), len(price))"
   ]
  },
  {
   "cell_type": "code",
   "execution_count": 13,
   "metadata": {},
   "outputs": [
    {
     "name": "stdout",
     "output_type": "stream",
     "text": [
      "MSE for Degree 1: 1397503135.524839\n",
      "R^2 for Degree 1: 0.7350979302458933\n",
      "MAE for Degree 1: 27424.325884556758\n",
      "RMSLE for Degree 1: 0.13691130799018605\n",
      "-------\n",
      "MSE for Degree 2: 797085828.0659653\n",
      "R^2 for Degree 2: 0.8489093296044434\n",
      "MAE for Degree 2: 23166.214546449723\n",
      "RMSLE for Degree 2: 0.11186922920201438\n",
      "-------\n",
      "MSE for Degree 3: 10242404.21240879\n",
      "R^2 for Degree 3: 0.9980585130679465\n",
      "MAE for Degree 3: 1968.4910593340473\n",
      "RMSLE for Degree 3: 0.012952114466300095\n",
      "-------\n",
      "MSE for Degree 4: 5202.4614287932545\n",
      "R^2 for Degree 4: 0.9999990138535183\n",
      "MAE for Degree 4: 57.43662225046465\n",
      "RMSLE for Degree 4: 0.0002538038568138809\n",
      "-------\n",
      "MSE for Degree 5: 4.4837502026630025e-09\n",
      "R^2 for Degree 5: 1.0\n",
      "MAE for Degree 5: 4.9160372826360886e-05\n",
      "RMSLE for Degree 5: 2.233984383452159e-10\n",
      "-------\n"
     ]
    }
   ],
   "source": [
    "import pandas as pd\n",
    "from sklearn.preprocessing import PolynomialFeatures\n",
    "from sklearn.linear_model import LinearRegression\n",
    "from sklearn.metrics import mean_squared_error, r2_score\n",
    "\n",
    "# Convert the dataset into a data frame\n",
    "data = pd.DataFrame({\n",
    "    'Square Meter': square_meter,\n",
    "    'Number of Rooms': number_of_rooms,\n",
    "    'Number of Bathrooms': number_of_bathrooms,\n",
    "    'Year': year,\n",
    "    'Price': price\n",
    "})\n",
    "\n",
    "# Selection of independent variables (X) and dependent variable (y)\n",
    "X = data[['Square Meter', 'Number of Rooms', 'Number of Bathrooms', 'Year']]\n",
    "y = data['Price']\n",
    "\n",
    "# Create polynomials of different degrees and calculate metrics\n",
    "for degree in range(1, 6):\n",
    "    polynomial_features = PolynomialFeatures(degree=degree)\n",
    "    X_poly = polynomial_features.fit_transform(X)\n",
    "    model = LinearRegression()\n",
    "    model.fit(X_poly, y)\n",
    "    predictions = model.predict(X_poly)\n",
    "\n",
    "    mse = mean_squared_error(y, predictions)\n",
    "    r2 = r2_score(y, predictions)\n",
    "    mae = mean_absolute_error(y, predictions)\n",
    "\n",
    "    # RMSLE \n",
    "    log_predictions = np.log1p(predictions)\n",
    "    log_real_values = np.log1p(y)\n",
    "    rmsle = sqrt(mean_squared_error(log_real_values, log_predictions))\n",
    "\n",
    "    print(f\"MSE for Degree {degree}: {mse}\")\n",
    "    print(f\"R^2 for Degree {degree}: {r2}\")\n",
    "    print(f\"MAE for Degree {degree}: {mae}\")\n",
    "    print(f\"RMSLE for Degree {degree}: {rmsle}\")\n",
    "    print(\"-------\")\n"
   ]
  },
  {
   "cell_type": "markdown",
   "metadata": {},
   "source": [
    "According to our results, the MAE and RMSLE metrics of degree 3 and degree 4 polynomials are quite low. This indicates that the model has good prediction performance. The degree 5 polynomial shows almost zero error in the MAE and RMSLE metrics, but has a high risk of overfitting.\n",
    "When we examine the results, we observe that when we increase the complexity of the model by increasing the polynomial degree, both MSE and R^2 scores become better. However, using a degree 5 polynomial may indicate overfitting. Especially the results of degree 3 and degree 4 polynomials seem quite successful. Therefore, we may choose to tune our model using the degree 2 polynomial, avoiding higher degree polynomials."
   ]
  },
  {
   "cell_type": "code",
   "execution_count": 14,
   "metadata": {},
   "outputs": [
    {
     "name": "stdout",
     "output_type": "stream",
     "text": [
      "KNN Model - MSE: 1458322580.6451614\n",
      "KNN Model - R^2: 0.7235693715728431\n",
      "KNN Model - MAE: 30064.516129032258\n"
     ]
    }
   ],
   "source": [
    "from sklearn.neighbors import KNeighborsRegressor\n",
    "from sklearn.metrics import mean_squared_error, r2_score, mean_absolute_error\n",
    "\n",
    "# Convert the dataset into a data frame\n",
    "data = pd.DataFrame({\n",
    "    'Square Meter': square_meter,\n",
    "    'Number of Rooms': number_of_rooms,\n",
    "    'Number of Bathrooms': number_of_bathrooms,\n",
    "    'Year': year,\n",
    "    'Price': price\n",
    "})\n",
    "\n",
    "# Selection of independent variables (X) and dependent variable (y)\n",
    "X = data[['Square Meter', 'Number of Rooms', 'Number of Bathrooms', 'Year']]\n",
    "y = data['Price']\n",
    "\n",
    "# Build and train the KNN regression model (e.g. k=5)\n",
    "knn_model = KNeighborsRegressor(n_neighbors=5)\n",
    "knn_model.fit(X, y)\n",
    "\n",
    "# Make predictions\n",
    "predictions = knn_model.predict(X)\n",
    "\n",
    "# MSE, R^2, and MAE calculate scores\n",
    "mse = mean_squared_error(y, predictions)\n",
    "r2 = r2_score(y, predictions)\n",
    "mae = mean_absolute_error(y, predictions)\n",
    "\n",
    "print(\"KNN Model - MSE:\", mse)\n",
    "print(\"KNN Model - R^2:\", r2)\n",
    "print(\"KNN Model - MAE:\", mae)\n"
   ]
  },
  {
   "cell_type": "markdown",
   "metadata": {},
   "source": [
    "HIGH MSE AND MAE"
   ]
  },
  {
   "cell_type": "code",
   "execution_count": 15,
   "metadata": {},
   "outputs": [
    {
     "name": "stdout",
     "output_type": "stream",
     "text": [
      "SVR Model - MSE: 1458322580.6451614\n",
      "SVR Model - R^2: 0.7235693715728431\n",
      "SVR Model - MAE: 30064.516129032258\n"
     ]
    }
   ],
   "source": [
    "from sklearn.svm import SVR\n",
    "from sklearn.metrics import mean_squared_error, r2_score, mean_absolute_error\n",
    "\n",
    "# Convert the dataset into a data frame\n",
    "data = pd.DataFrame({\n",
    "    'Square Meter': square_meter,\n",
    "    'Number of Rooms': number_of_rooms,\n",
    "    'Number of Bathrooms': number_of_bathrooms,\n",
    "    'Year': year,\n",
    "    'Price': price\n",
    "})\n",
    "\n",
    "# Selection of independent variables (X) and dependent variable (y)\n",
    "X = data[['Square Meter', 'Number of Rooms', 'Number of Bathrooms', 'Year']]\n",
    "y = data['Price']\n",
    "\n",
    "# Build and train the SVR model\n",
    "svr_model = SVR(kernel='linear')  # Linear kernel can be used, other kernels can also be selected\n",
    "svr_model.fit(X, y)\n",
    "\n",
    "# Make predictions\n",
    "tahminler = svr_model.predict(X)\n",
    "\n",
    "# Calculate MSE, R^2, and MAE scores\n",
    "mse = mean_squared_error(y, predictions)\n",
    "r2 = r2_score(y, predictions)\n",
    "mae = mean_absolute_error(y, predictions)\n",
    "\n",
    "print(\"SVR Model - MSE:\", mse)\n",
    "print(\"SVR Model - R^2:\", r2)\n",
    "print(\"SVR Model - MAE:\", mae)\n"
   ]
  },
  {
   "cell_type": "markdown",
   "metadata": {},
   "source": [
    "HIGH MSE AND MAE"
   ]
  }
 ],
 "metadata": {
  "kernelspec": {
   "display_name": "Python 3",
   "language": "python",
   "name": "python3"
  },
  "language_info": {
   "codemirror_mode": {
    "name": "ipython",
    "version": 3
   },
   "file_extension": ".py",
   "mimetype": "text/x-python",
   "name": "python",
   "nbconvert_exporter": "python",
   "pygments_lexer": "ipython3",
   "version": "3.12.1"
  }
 },
 "nbformat": 4,
 "nbformat_minor": 2
}
